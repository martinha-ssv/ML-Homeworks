{
 "cells": [
  {
   "cell_type": "code",
   "execution_count": 5,
   "metadata": {},
   "outputs": [],
   "source": [
    "# IMPORTS\n",
    "import numpy as np\n",
    "from math import *"
   ]
  },
  {
   "cell_type": "markdown",
   "metadata": {},
   "source": [
    "# I. Pen-and-Paper"
   ]
  },
  {
   "cell_type": "code",
   "execution_count": 17,
   "metadata": {},
   "outputs": [
    {
     "data": {
      "text/plain": [
       "[[0.3, 0, 1, 0, 'B'],\n",
       " [0.76, 0, 1, 1, 'A'],\n",
       " [0.86, 1, 0, 0, 'A'],\n",
       " [0.93, 0, 1, 1, 'C'],\n",
       " [0.47, 0, 1, 1, 'C'],\n",
       " [0.73, 1, 0, 0, 'A'],\n",
       " [0.89, 1, 2, 0, 'B']]"
      ]
     },
     "execution_count": 17,
     "metadata": {},
     "output_type": "execute_result"
    }
   ],
   "source": [
    "attrs = {\n",
    "    'y1': 0,\n",
    "    'y2': 1,\n",
    "    'y3': 2,\n",
    "    'y4': 3,\n",
    "    'yout': 4\n",
    "}\n",
    "\n",
    "data = [\n",
    "    [0.22, 2, 0, 1, 'C'],\n",
    "    [0.06, 0, 0, 0, 'B'],\n",
    "    [0.16, 1, 2, 2, 'C'],\n",
    "    [0.21, 0, 0, 0, 'B'],\n",
    "    [0.01, 2, 2, 0, 'C'],\n",
    "    [0.30, 0, 1, 0, 'B'],\n",
    "    [0.76, 0, 1, 1, 'A'],\n",
    "    [0.86, 1, 0, 0, 'A'],\n",
    "    [0.93, 0, 1, 1, 'C'],\n",
    "    [0.47, 0, 1, 1, 'C'],\n",
    "    [0.73, 1, 0, 0, 'A'],\n",
    "    [0.89, 1, 2, 0, 'B']\n",
    "]\n",
    "\n",
    "data_right = [x for x in data if x[0] >= 0.3]\n",
    "data_right"
   ]
  },
  {
   "cell_type": "code",
   "execution_count": 34,
   "metadata": {},
   "outputs": [
    {
     "data": {
      "text/plain": [
       "[[0.22, 2, 0, 1, 'C'], [0.01, 2, 2, 0, 'C']]"
      ]
     },
     "execution_count": 34,
     "metadata": {},
     "output_type": "execute_result"
    }
   ],
   "source": [
    "subset = [x for x in data if x[1] == 2]\n",
    "subset"
   ]
  },
  {
   "cell_type": "code",
   "execution_count": 23,
   "metadata": {},
   "outputs": [],
   "source": [
    "def prob(attr, value, data):\n",
    "    count = 0\n",
    "    U = len(data)\n",
    "    for x in data:\n",
    "        if x[attr] == value:\n",
    "            count += 1\n",
    "    return count / U"
   ]
  },
  {
   "cell_type": "code",
   "execution_count": 30,
   "metadata": {},
   "outputs": [
    {
     "data": {
      "text/plain": [
       "1.5545851693377997"
      ]
     },
     "execution_count": 30,
     "metadata": {},
     "output_type": "execute_result"
    }
   ],
   "source": [
    "# Calculation of information gain for the right subtree, with a hypothetical split on each attribute.\n",
    "\n",
    "# DÚVIDA: deveríamos calcular ainda a entropia para y1? dividimos em 0.3, mas talvez outro split nos dê resultados melhores? oh man\n",
    "\n",
    "H_yout = -(prob(attrs['yout'], 'A', data)*log2(prob(attrs['yout'], 'A', data)) + prob(attrs['yout'], 'B', data)*log2(prob(attrs['yout'], 'B', data)) + prob(attrs['yout'], 'C', data)*log2(prob(attrs['yout'], 'C', data)))\n",
    "\n",
    "IG"
   ]
  },
  {
   "cell_type": "code",
   "execution_count": null,
   "metadata": {},
   "outputs": [],
   "source": [
    "# práticas\n",
    "import statistics as stats\n",
    "\n"
   ]
  }
 ],
 "metadata": {
  "kernelspec": {
   "display_name": "Python 3",
   "language": "python",
   "name": "python3"
  },
  "language_info": {
   "codemirror_mode": {
    "name": "ipython",
    "version": 3
   },
   "file_extension": ".py",
   "mimetype": "text/x-python",
   "name": "python",
   "nbconvert_exporter": "python",
   "pygments_lexer": "ipython3",
   "version": "3.12.6"
  }
 },
 "nbformat": 4,
 "nbformat_minor": 2
}
