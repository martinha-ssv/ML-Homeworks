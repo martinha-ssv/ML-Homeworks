{
 "cells": [
  {
   "cell_type": "code",
   "execution_count": null,
   "metadata": {},
   "outputs": [
    {
     "ename": "",
     "evalue": "",
     "output_type": "error",
     "traceback": [
      "\u001b[1;31mFailed to start the Kernel. \n",
      "\u001b[1;31mThe kernel died. Error: ... View Jupyter <a href='command:jupyter.viewOutput'>log</a> for further details."
     ]
    }
   ],
   "source": [
    "import numpy as np\n",
    "import pandas as pd\n",
    "import matplotlib.pyplot as plt\n",
    "import seaborn as sns\n",
    "from sklearn.model_selection import train_test_split\n",
    "from sklearn.linear_model import LinearRegression\n",
    "from sklearn.neural_network import MLPRegressor\n",
    "from sklearn.metrics import mean_absolute_error"
   ]
  },
  {
   "cell_type": "code",
   "execution_count": null,
   "metadata": {},
   "outputs": [],
   "source": [
    "data = pd.read_csv('parkinsons.csv')"
   ]
  },
  {
   "cell_type": "code",
   "execution_count": null,
   "metadata": {},
   "outputs": [
    {
     "ename": "",
     "evalue": "",
     "output_type": "error",
     "traceback": [
      "\u001b[1;31mFailed to start the Kernel. \n",
      "\u001b[1;31mThe kernel died. Error: ... View Jupyter <a href='command:jupyter.viewOutput'>log</a> for further details."
     ]
    }
   ],
   "source": [
    "X = data.drop(columns=['target'])  \n",
    "y = data['target']  \n",
    "\n",
    "mae_scores_lr = [] \n",
    "mae_scores_mlp_no_act = []\n",
    "mae_scores_mlp_relu = []\n"
   ]
  },
  {
   "cell_type": "code",
   "execution_count": null,
   "metadata": {},
   "outputs": [],
   "source": [
    "for i in range(1, 11):    \n",
    "    lr_model = LinearRegression()\n",
    "    lr_model.fit(X_train, y_train)\n",
    "    y_pred_lr = lr_model.predict(X_test)\n",
    "    mae_lr = mean_absolute_error(y_test, y_pred_lr)\n",
    "    mae_scores_lr.append(mae_lr)\n",
    "    \n",
    "    mlp_no_act = MLPRegressor(hidden_layer_sizes=(10, 10), activation='identity', max_iter=1000, random_state=0)\n",
    "    mlp_no_act.fit(X_train, y_train)\n",
    "    y_pred_mlp_no_act = mlp_no_act.predict(X_test)\n",
    "    mae_mlp_no_act = mean_absolute_error(y_test, y_pred_mlp_no_act)\n",
    "    mae_scores_mlp_no_act.append(mae_mlp_no_act)\n",
    "    \n",
    "    mlp_relu = MLPRegressor(hidden_layer_sizes=(10, 10), activation='relu', max_iter=1000, random_state=0)\n",
    "    mlp_relu.fit(X_train, y_train)\n",
    "    y_pred_mlp_relu = mlp_relu.predict(X_test)\n",
    "    mae_mlp_relu = mean_absolute_error(y_test, y_pred_mlp_relu)\n",
    "    mae_scores_mlp_relu.append(mae_mlp_relu)\n",
    "\n",
    "mae_data = {\n",
    "    'Linear Regression': mae_scores_lr,\n",
    "    'MLP (No Activation)': mae_scores_mlp_no_act,\n",
    "    'MLP (ReLU Activation)': mae_scores_mlp_relu\n",
    "}\n",
    "\n",
    "plt.figure(figsize=(8, 6))\n",
    "sns.boxplot(data=[mae_scores_lr, mae_scores_mlp_no_act, mae_scores_mlp_relu])\n",
    "plt.xticks([0, 1, 2], ['Linear Regression', 'MLP (No Activation)', 'MLP (ReLU Activation)'])\n",
    "plt.ylabel('Test MAE')\n",
    "plt.title('Boxplot of Test MAE for Linear Regression and MLP Regressors')\n",
    "plt.grid(True)\n",
    "plt.show()"
   ]
  }
 ],
 "metadata": {
  "kernelspec": {
   "display_name": ".venv",
   "language": "python",
   "name": "python3"
  },
  "language_info": {
   "name": "python",
   "version": "3.12.7"
  }
 },
 "nbformat": 4,
 "nbformat_minor": 2
}
