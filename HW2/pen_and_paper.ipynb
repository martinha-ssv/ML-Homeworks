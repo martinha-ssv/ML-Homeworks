{
 "cells": [
  {
   "cell_type": "code",
   "execution_count": 1,
   "metadata": {},
   "outputs": [],
   "source": [
    "# Imports\n",
    "\n",
    "import pandas as pd\n",
    "import numpy as np\n",
    "import pprint\n",
    "from scipy.stats import norm"
   ]
  },
  {
   "cell_type": "code",
   "execution_count": 2,
   "metadata": {},
   "outputs": [],
   "source": [
    "def distance_matrix(dist_func, data1, data2):\n",
    "    n1 = len(data1)\n",
    "    n2 = len(data2)\n",
    "    dist_matrix = np.zeros((n1, n2))\n",
    "    for i in range(n1):\n",
    "        for j in range(n2):\n",
    "            dist_matrix[i, j] = dist_func(data1.iloc[i], data2.iloc[j])\n",
    "    np.set_printoptions(precision=2)\n",
    "    print(dist_matrix)\n",
    "    return dist_matrix"
   ]
  },
  {
   "cell_type": "code",
   "execution_count": 3,
   "metadata": {},
   "outputs": [
    {
     "data": {
      "text/plain": [
       "'\\ndef eskin_distance(x1, x2):\\n    ##*\\n'"
      ]
     },
     "execution_count": 3,
     "metadata": {},
     "output_type": "execute_result"
    }
   ],
   "source": [
    "def euclidean_distance(x1, x2):\n",
    "    return np.linalg.norm(x1 - x2)\n",
    "\n",
    "def hamming_distance(x1, x2):\n",
    "    return np.sum(x1 != x2)\n",
    "\n",
    "def manhattan_distance(x1, x2):\n",
    "    return np.sum(np.abs(x1 - x2))\n",
    "\n",
    "def minkowski_distance(x1, x2, p):\n",
    "    return np.sum(np.abs(x1 - x2) ** p) ** (1 / p)\n",
    "\n",
    "def cosine_similarity(x1, x2):\n",
    "    return np.dot(x1, x2) / (np.linalg.norm(x1) * np.linalg.norm(x2))\n",
    "\n",
    "\n",
    "def jaccard_distance(x1, x2):\n",
    "    x1 = set(x1)\n",
    "    x2 = set(x2)\n",
    "    intersection = len(x1.intersection(x2))\n",
    "    union = len(x1.union(x2))\n",
    "    return 1 - (intersection/union)\n",
    "\n",
    "def weighted_hamming_distance(x1, x2):\n",
    "    w1 = 0.6\n",
    "    w2 = 0.4\n",
    "    return w1*(x1[0]!=x2[0]) + w2*(x1[1]!=x2[1])\n",
    "\n",
    "def modified_hamming_distance(x1, x2):\n",
    "    return (x1[0]!=x2[0])\n",
    "'''\n",
    "def eskin_distance(x1, x2):\n",
    "    ##*\n",
    "'''"
   ]
  },
  {
   "cell_type": "code",
   "execution_count": 34,
   "metadata": {},
   "outputs": [
    {
     "data": {
      "text/html": [
       "<div>\n",
       "<style scoped>\n",
       "    .dataframe tbody tr th:only-of-type {\n",
       "        vertical-align: middle;\n",
       "    }\n",
       "\n",
       "    .dataframe tbody tr th {\n",
       "        vertical-align: top;\n",
       "    }\n",
       "\n",
       "    .dataframe thead th {\n",
       "        text-align: right;\n",
       "    }\n",
       "</style>\n",
       "<table border=\"1\" class=\"dataframe\">\n",
       "  <thead>\n",
       "    <tr style=\"text-align: right;\">\n",
       "      <th></th>\n",
       "      <th>Observation</th>\n",
       "      <th>Feature_1</th>\n",
       "      <th>Feature_2</th>\n",
       "      <th>Class</th>\n",
       "    </tr>\n",
       "  </thead>\n",
       "  <tbody>\n",
       "    <tr>\n",
       "      <th>0</th>\n",
       "      <td>$x_{1}$</td>\n",
       "      <td>A</td>\n",
       "      <td>0</td>\n",
       "      <td>1</td>\n",
       "    </tr>\n",
       "    <tr>\n",
       "      <th>1</th>\n",
       "      <td>$x_{2}$</td>\n",
       "      <td>B</td>\n",
       "      <td>1</td>\n",
       "      <td>1</td>\n",
       "    </tr>\n",
       "    <tr>\n",
       "      <th>2</th>\n",
       "      <td>$x_{3}$</td>\n",
       "      <td>A</td>\n",
       "      <td>1</td>\n",
       "      <td>1</td>\n",
       "    </tr>\n",
       "    <tr>\n",
       "      <th>3</th>\n",
       "      <td>$x_{4}$</td>\n",
       "      <td>A</td>\n",
       "      <td>0</td>\n",
       "      <td>1</td>\n",
       "    </tr>\n",
       "    <tr>\n",
       "      <th>4</th>\n",
       "      <td>$x_{5}$</td>\n",
       "      <td>B</td>\n",
       "      <td>0</td>\n",
       "      <td>0</td>\n",
       "    </tr>\n",
       "    <tr>\n",
       "      <th>5</th>\n",
       "      <td>$x_{6}$</td>\n",
       "      <td>B</td>\n",
       "      <td>0</td>\n",
       "      <td>0</td>\n",
       "    </tr>\n",
       "    <tr>\n",
       "      <th>6</th>\n",
       "      <td>$x_{7}$</td>\n",
       "      <td>A</td>\n",
       "      <td>1</td>\n",
       "      <td>0</td>\n",
       "    </tr>\n",
       "    <tr>\n",
       "      <th>7</th>\n",
       "      <td>$x_{8}$</td>\n",
       "      <td>B</td>\n",
       "      <td>1</td>\n",
       "      <td>0</td>\n",
       "    </tr>\n",
       "  </tbody>\n",
       "</table>\n",
       "</div>"
      ],
      "text/plain": [
       "  Observation Feature_1  Feature_2  Class\n",
       "0     $x_{1}$         A          0      1\n",
       "1     $x_{2}$         B          1      1\n",
       "2     $x_{3}$         A          1      1\n",
       "3     $x_{4}$         A          0      1\n",
       "4     $x_{5}$         B          0      0\n",
       "5     $x_{6}$         B          0      0\n",
       "6     $x_{7}$         A          1      0\n",
       "7     $x_{8}$         B          1      0"
      ]
     },
     "execution_count": 34,
     "metadata": {},
     "output_type": "execute_result"
    }
   ],
   "source": [
    "data = {\n",
    "    'Observation': ['$x_{1}$', '$x_{2}$', '$x_{3}$', '$x_{4}$', '$x_{5}$', '$x_{6}$', '$x_{7}$', '$x_{8}$'],\n",
    "    'Feature_1': ['A', 'B', 'A', 'A', 'B', 'B', 'A', 'B'],\n",
    "    'Feature_2': [0, 1, 1, 0, 0, 0, 1, 1],\n",
    "    'Class': [1, 1, 1, 1, 0, 0, 0, 0]\n",
    "}\n",
    "\n",
    "df = pd.DataFrame(data)\n",
    "df"
   ]
  },
  {
   "cell_type": "code",
   "execution_count": 35,
   "metadata": {},
   "outputs": [],
   "source": [
    "df['Feature_1_bin']=df['Feature_1'].apply(lambda x: 1 if x=='A' else 0)"
   ]
  },
  {
   "cell_type": "code",
   "execution_count": 36,
   "metadata": {},
   "outputs": [
    {
     "data": {
      "text/html": [
       "<div>\n",
       "<style scoped>\n",
       "    .dataframe tbody tr th:only-of-type {\n",
       "        vertical-align: middle;\n",
       "    }\n",
       "\n",
       "    .dataframe tbody tr th {\n",
       "        vertical-align: top;\n",
       "    }\n",
       "\n",
       "    .dataframe thead th {\n",
       "        text-align: right;\n",
       "    }\n",
       "</style>\n",
       "<table border=\"1\" class=\"dataframe\">\n",
       "  <thead>\n",
       "    <tr style=\"text-align: right;\">\n",
       "      <th></th>\n",
       "      <th>Observation</th>\n",
       "      <th>Feature_1</th>\n",
       "      <th>Feature_2</th>\n",
       "      <th>Class</th>\n",
       "      <th>Feature_1_bin</th>\n",
       "    </tr>\n",
       "  </thead>\n",
       "  <tbody>\n",
       "    <tr>\n",
       "      <th>0</th>\n",
       "      <td>$x_{1}$</td>\n",
       "      <td>A</td>\n",
       "      <td>0</td>\n",
       "      <td>1</td>\n",
       "      <td>1</td>\n",
       "    </tr>\n",
       "    <tr>\n",
       "      <th>1</th>\n",
       "      <td>$x_{2}$</td>\n",
       "      <td>B</td>\n",
       "      <td>1</td>\n",
       "      <td>1</td>\n",
       "      <td>0</td>\n",
       "    </tr>\n",
       "    <tr>\n",
       "      <th>2</th>\n",
       "      <td>$x_{3}$</td>\n",
       "      <td>A</td>\n",
       "      <td>1</td>\n",
       "      <td>1</td>\n",
       "      <td>1</td>\n",
       "    </tr>\n",
       "    <tr>\n",
       "      <th>3</th>\n",
       "      <td>$x_{4}$</td>\n",
       "      <td>A</td>\n",
       "      <td>0</td>\n",
       "      <td>1</td>\n",
       "      <td>1</td>\n",
       "    </tr>\n",
       "    <tr>\n",
       "      <th>4</th>\n",
       "      <td>$x_{5}$</td>\n",
       "      <td>B</td>\n",
       "      <td>0</td>\n",
       "      <td>0</td>\n",
       "      <td>0</td>\n",
       "    </tr>\n",
       "    <tr>\n",
       "      <th>5</th>\n",
       "      <td>$x_{6}$</td>\n",
       "      <td>B</td>\n",
       "      <td>0</td>\n",
       "      <td>0</td>\n",
       "      <td>0</td>\n",
       "    </tr>\n",
       "    <tr>\n",
       "      <th>6</th>\n",
       "      <td>$x_{7}$</td>\n",
       "      <td>A</td>\n",
       "      <td>1</td>\n",
       "      <td>0</td>\n",
       "      <td>1</td>\n",
       "    </tr>\n",
       "    <tr>\n",
       "      <th>7</th>\n",
       "      <td>$x_{8}$</td>\n",
       "      <td>B</td>\n",
       "      <td>1</td>\n",
       "      <td>0</td>\n",
       "      <td>0</td>\n",
       "    </tr>\n",
       "  </tbody>\n",
       "</table>\n",
       "</div>"
      ],
      "text/plain": [
       "  Observation Feature_1  Feature_2  Class  Feature_1_bin\n",
       "0     $x_{1}$         A          0      1              1\n",
       "1     $x_{2}$         B          1      1              0\n",
       "2     $x_{3}$         A          1      1              1\n",
       "3     $x_{4}$         A          0      1              1\n",
       "4     $x_{5}$         B          0      0              0\n",
       "5     $x_{6}$         B          0      0              0\n",
       "6     $x_{7}$         A          1      0              1\n",
       "7     $x_{8}$         B          1      0              0"
      ]
     },
     "execution_count": 36,
     "metadata": {},
     "output_type": "execute_result"
    }
   ],
   "source": [
    "df"
   ]
  },
  {
   "cell_type": "code",
   "execution_count": 42,
   "metadata": {},
   "outputs": [
    {
     "name": "stdout",
     "output_type": "stream",
     "text": [
      "[[0.  1.  0.4 0.  0.6 0.6 0.4 1. ]\n",
      " [1.  0.  0.6 1.  0.4 0.4 0.6 0. ]\n",
      " [0.4 0.6 0.  0.4 1.  1.  0.  0.6]\n",
      " [0.  1.  0.4 0.  0.6 0.6 0.4 1. ]\n",
      " [0.6 0.4 1.  0.6 0.  0.  1.  0.4]\n",
      " [0.6 0.4 1.  0.6 0.  0.  1.  0.4]\n",
      " [0.4 0.6 0.  0.4 1.  1.  0.  0.6]\n",
      " [1.  0.  0.6 1.  0.4 0.4 0.6 0. ]]\n",
      "0    1\n",
      "1    1\n",
      "2    1\n",
      "3    1\n",
      "4    0\n",
      "5    0\n",
      "6    0\n",
      "7    0\n",
      "Name: Class, dtype: int64 [1 0 1 1 0 0 1 0]\n"
     ]
    },
    {
     "name": "stderr",
     "output_type": "stream",
     "text": [
      "/var/folders/f4/8_r5407n5ll97y6t_rkjdg2m0000gr/T/ipykernel_36363/2504971954.py:27: FutureWarning: Series.__getitem__ treating keys as positions is deprecated. In a future version, integer keys will always be treated as labels (consistent with DataFrame behavior). To access a value by position, use `ser.iloc[pos]`\n",
      "  return w1*(x1[0]!=x2[0]) + w2*(x1[1]!=x2[1])\n"
     ]
    },
    {
     "data": {
      "image/png": "[encoded data removed]",
      "text/plain": [
       "<Figure size 800x600 with 2 Axes>"
      ]
     },
     "metadata": {},
     "output_type": "display_data"
    }
   ],
   "source": [
    "import sklearn as sk\n",
    "from sklearn.neighbors import KNeighborsClassifier\n",
    "from sklearn.metrics import confusion_matrix\n",
    "import seaborn as sns\n",
    "# Create KNN classifier\n",
    "knn = KNeighborsClassifier(n_neighbors=5, algorithm='auto', metric='precomputed')\n",
    "\n",
    "# Fit the classifier to the data\n",
    "X = df[['Feature_1', 'Feature_2']]\n",
    "y = df['Class']\n",
    "\n",
    "mat = distance_matrix(weighted_hamming_distance,X,X)\n",
    "knn.fit(mat3, y)\n",
    "# Predict the class labels for the provided data\n",
    "y_pred = knn.predict(mat3)\n",
    "\n",
    "print(y, y_pred)\n",
    "# Generate the confusion matrix\n",
    "cm = confusion_matrix(y, y_pred)\n",
    "import matplotlib.pyplot as plt\n",
    "\n",
    "# Plot the confusion matrix\n",
    "plt.figure(figsize=(8, 6))\n",
    "sns.heatmap(cm, annot=True, fmt='d', cmap='Blues', xticklabels=['Predicted Negative', 'Predicted Positive'], yticklabels=['True Negative', 'True Positive'])\n",
    "plt.xlabel('Predicted')\n",
    "plt.ylabel('True')\n",
    "plt.title('Confusion Matrix')\n",
    "plt.show()"
   ]
  },
  {
   "cell_type": "code",
   "execution_count": 7,
   "metadata": {},
   "outputs": [
    {
     "ename": "NameError",
     "evalue": "name 'X' is not defined",
     "output_type": "error",
     "traceback": [
      "\u001b[0;31m---------------------------------------------------------------------------\u001b[0m",
      "\u001b[0;31mNameError\u001b[0m                                 Traceback (most recent call last)",
      "Cell \u001b[0;32mIn[7], line 1\u001b[0m\n\u001b[0;32m----> 1\u001b[0m mat2 \u001b[38;5;241m=\u001b[39m distance_matrix(hamming_distance,\u001b[43mX\u001b[49m,X)\n",
      "\u001b[0;31mNameError\u001b[0m: name 'X' is not defined"
     ]
    }
   ],
   "source": [
    "mat2 = distance_matrix(hamming_distance,X,X)"
   ]
  },
  {
   "cell_type": "code",
   "execution_count": 39,
   "metadata": {},
   "outputs": [
    {
     "name": "stdout",
     "output_type": "stream",
     "text": [
      "[[0.   1.41 1.   0.   1.   1.   1.   1.41]\n",
      " [1.41 0.   1.   1.41 1.   1.   1.   0.  ]\n",
      " [1.   1.   0.   1.   1.41 1.41 0.   1.  ]\n",
      " [0.   1.41 1.   0.   1.   1.   1.   1.41]\n",
      " [1.   1.   1.41 1.   0.   0.   1.41 1.  ]\n",
      " [1.   1.   1.41 1.   0.   0.   1.41 1.  ]\n",
      " [1.   1.   0.   1.   1.41 1.41 0.   1.  ]\n",
      " [1.41 0.   1.   1.41 1.   1.   1.   0.  ]]\n"
     ]
    },
    {
     "data": {
      "text/html": [
       "<div>\n",
       "<style scoped>\n",
       "    .dataframe tbody tr th:only-of-type {\n",
       "        vertical-align: middle;\n",
       "    }\n",
       "\n",
       "    .dataframe tbody tr th {\n",
       "        vertical-align: top;\n",
       "    }\n",
       "\n",
       "    .dataframe thead th {\n",
       "        text-align: right;\n",
       "    }\n",
       "</style>\n",
       "<table border=\"1\" class=\"dataframe\">\n",
       "  <thead>\n",
       "    <tr style=\"text-align: right;\">\n",
       "      <th></th>\n",
       "      <th>Feature_1_bin</th>\n",
       "      <th>Feature_2</th>\n",
       "    </tr>\n",
       "  </thead>\n",
       "  <tbody>\n",
       "    <tr>\n",
       "      <th>0</th>\n",
       "      <td>0</td>\n",
       "      <td>0</td>\n",
       "    </tr>\n",
       "    <tr>\n",
       "      <th>1</th>\n",
       "      <td>1</td>\n",
       "      <td>1</td>\n",
       "    </tr>\n",
       "    <tr>\n",
       "      <th>2</th>\n",
       "      <td>0</td>\n",
       "      <td>1</td>\n",
       "    </tr>\n",
       "    <tr>\n",
       "      <th>3</th>\n",
       "      <td>0</td>\n",
       "      <td>0</td>\n",
       "    </tr>\n",
       "    <tr>\n",
       "      <th>4</th>\n",
       "      <td>1</td>\n",
       "      <td>0</td>\n",
       "    </tr>\n",
       "    <tr>\n",
       "      <th>5</th>\n",
       "      <td>1</td>\n",
       "      <td>0</td>\n",
       "    </tr>\n",
       "    <tr>\n",
       "      <th>6</th>\n",
       "      <td>0</td>\n",
       "      <td>1</td>\n",
       "    </tr>\n",
       "    <tr>\n",
       "      <th>7</th>\n",
       "      <td>1</td>\n",
       "      <td>1</td>\n",
       "    </tr>\n",
       "  </tbody>\n",
       "</table>\n",
       "</div>"
      ],
      "text/plain": [
       "   Feature_1_bin  Feature_2\n",
       "0              0          0\n",
       "1              1          1\n",
       "2              0          1\n",
       "3              0          0\n",
       "4              1          0\n",
       "5              1          0\n",
       "6              0          1\n",
       "7              1          1"
      ]
     },
     "execution_count": 39,
     "metadata": {},
     "output_type": "execute_result"
    }
   ],
   "source": [
    "X_bin = df[['Feature_1_bin', 'Feature_2']]\n",
    "df['Feature_1_bin'] = df['Feature_1_bin'].apply(lambda x: 0 if x == 1 else 1)\n"
   ]
  },
  {
   "cell_type": "code",
   "execution_count": 41,
   "metadata": {},
   "outputs": [
    {
     "name": "stdout",
     "output_type": "stream",
     "text": [
      "[[0.   1.41 1.   0.   1.   1.   1.   1.41]\n",
      " [1.41 0.   1.   1.41 1.   1.   1.   0.  ]\n",
      " [1.   1.   0.   1.   1.41 1.41 0.   1.  ]\n",
      " [0.   1.41 1.   0.   1.   1.   1.   1.41]\n",
      " [1.   1.   1.41 1.   0.   0.   1.41 1.  ]\n",
      " [1.   1.   1.41 1.   0.   0.   1.41 1.  ]\n",
      " [1.   1.   0.   1.   1.41 1.41 0.   1.  ]\n",
      " [1.41 0.   1.   1.41 1.   1.   1.   0.  ]]\n"
     ]
    }
   ],
   "source": [
    "mat3 = distance_matrix(euclidean_distance, X_bin, X_bin)"
   ]
  },
  {
   "cell_type": "code",
   "execution_count": 28,
   "metadata": {},
   "outputs": [
    {
     "data": {
      "text/plain": [
       "0    1\n",
       "1    0\n",
       "2    1\n",
       "3    1\n",
       "4    0\n",
       "5    0\n",
       "6    1\n",
       "7    0\n",
       "Name: Feature_1_bin, dtype: int64"
      ]
     },
     "execution_count": 28,
     "metadata": {},
     "output_type": "execute_result"
    }
   ],
   "source": [
    "X_bin['Feature_1_bin'].apply(lambda x: 1 if x == 0 else 0)"
   ]
  },
  {
   "cell_type": "code",
   "execution_count": 13,
   "metadata": {},
   "outputs": [],
   "source": [
    "df_bin_features = df.drop(['Observation', 'Feature_2', 'Class'], axis=1)\n"
   ]
  },
  {
   "cell_type": "code",
   "execution_count": 65,
   "metadata": {},
   "outputs": [],
   "source": [
    "def distance(dist_func, x1, x2):\n",
    "    return dist_func(x1, x2)\n"
   ]
  },
  {
   "cell_type": "code",
   "execution_count": 48,
   "metadata": {},
   "outputs": [
    {
     "name": "stdout",
     "output_type": "stream",
     "text": [
      "0.8200000000000001 0.21679483388678802 0.9999999999999999 0.14142135623730948\n"
     ]
    }
   ],
   "source": [
    "y3P = np.array([1.1,0.8,0.5,0.9,0.8])\n",
    "y3N = np.array([1, 0.9,1.2,0.9])\n",
    "meanP = np.mean(y3P) # Sample mean\n",
    "stdP = np.std(y3P, ddof=1)  # Sample standard deviation\n",
    "meanN = np.mean(y3N)  # Sample mean\n",
    "stdN = np.std(y3N, ddof=1)  # Sample standard deviation\n",
    "print(meanP, stdP, meanN, stdN)"
   ]
  },
  {
   "cell_type": "code",
   "execution_count": 51,
   "metadata": {},
   "outputs": [
    {
     "name": "stdout",
     "output_type": "stream",
     "text": [
      "Class Positive: P(y) = 1.3036714214895833\n",
      "Class Negative: P(y)= 2.820947917738782\n"
     ]
    },
    {
     "data": {
      "image/png": "[encoded data removed]",
      "text/plain": [
       "<Figure size 640x480 with 1 Axes>"
      ]
     },
     "metadata": {},
     "output_type": "display_data"
    }
   ],
   "source": [
    "Py3P_obj = norm(meanP, stdP)\n",
    "Py3N_obj = norm(meanN, stdN)\n",
    "y3_val = 1\n",
    "Py3P = Py3P_obj.pdf(y3_val)\n",
    "Py3N = Py3N_obj.pdf(y3_val)\n",
    "print('Class Positive: P(y) =', Py3P)\n",
    "print('Class Negative: P(y)=', Py3N)\n",
    "\n",
    "# Plot class conditional PDFs\n",
    "x = np.linspace(0, 2, 100)\n",
    "plt.plot(x, Py3P_obj.pdf(x), label='Class Positive PDF')\n",
    "plt.plot(x, Py3N_obj.pdf(x), label='Class Negative PDF')\n",
    "plt.axvline(y3_val, color='r', linestyle='--', label='y3_val')\n",
    "plt.xlabel('Value')\n",
    "plt.ylabel('Probability Density')\n",
    "plt.title('Class Conditional PDFs')\n",
    "plt.legend()\n",
    "plt.show()"
   ]
  },
  {
   "cell_type": "code",
   "execution_count": null,
   "metadata": {},
   "outputs": [],
   "source": []
  }
 ],
 "metadata": {
  "kernelspec": {
   "display_name": ".venv",
   "language": "python",
   "name": "python3"
  },
  "language_info": {
   "codemirror_mode": {
    "name": "ipython",
    "version": 3
   },
   "file_extension": ".py",
   "mimetype": "text/x-python",
   "name": "python",
   "nbconvert_exporter": "python",
   "pygments_lexer": "ipython3",
   "version": "3.12.6"
  }
 },
 "nbformat": 4,
 "nbformat_minor": 2
}
